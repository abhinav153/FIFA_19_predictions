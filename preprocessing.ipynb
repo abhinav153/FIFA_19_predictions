{
 "cells": [
  {
   "cell_type": "code",
   "execution_count": 129,
   "metadata": {
    "_cell_guid": "b1076dfc-b9ad-4769-8c92-a6c4dae69d19",
    "_uuid": "8f2839f25d086af736a60e9eeb907d3b93b6e0e5",
    "execution": {
     "iopub.execute_input": "2021-05-16T13:39:32.743885Z",
     "iopub.status.busy": "2021-05-16T13:39:32.742785Z",
     "iopub.status.idle": "2021-05-16T13:39:33.095512Z",
     "shell.execute_reply": "2021-05-16T13:39:33.096006Z"
    },
    "papermill": {
     "duration": 0.370424,
     "end_time": "2021-05-16T13:39:33.096309",
     "exception": false,
     "start_time": "2021-05-16T13:39:32.725885",
     "status": "completed"
    },
    "tags": []
   },
   "outputs": [],
   "source": [
    "import numpy as np # linear algebra\n",
    "import pandas as pd # data processing, CSV file I/O (e.g. pd.read_csv)\n",
    "import matplotlib.pyplot as plt\n",
    "import seaborn as sns\n",
    "\n",
    "\n",
    "df = pd.read_csv('clean_data.csv',index_col = [0],)"
   ]
  },
  {
   "cell_type": "code",
   "execution_count": 130,
   "metadata": {
    "execution": {
     "iopub.execute_input": "2021-05-16T13:39:33.120977Z",
     "iopub.status.busy": "2021-05-16T13:39:33.120406Z",
     "iopub.status.idle": "2021-05-16T13:39:33.127295Z",
     "shell.execute_reply": "2021-05-16T13:39:33.126774Z"
    },
    "papermill": {
     "duration": 0.019359,
     "end_time": "2021-05-16T13:39:33.127423",
     "exception": false,
     "start_time": "2021-05-16T13:39:33.108064",
     "status": "completed"
    },
    "tags": []
   },
   "outputs": [
    {
     "name": "stdout",
     "output_type": "stream",
     "text": [
      "columns of dataset are: \n",
      "Index(['Name', 'Age', 'Overall', 'Potential', 'Preferred Foot', 'Weak Foot',\n",
      "       'Skill Moves', 'Work Rate', 'Position', 'Height', 'Weight', 'Finishing',\n",
      "       'HeadingAccuracy', 'ShortPassing', 'Volleys', 'Dribbling', 'Curve',\n",
      "       'FKAccuracy', 'LongPassing', 'BallControl', 'Acceleration',\n",
      "       'SprintSpeed', 'Agility', 'Reactions', 'Balance', 'ShotPower',\n",
      "       'Jumping', 'Stamina', 'Strength', 'LongShots', 'Aggression',\n",
      "       'Interceptions', 'Positioning', 'Vision', 'Penalties', 'Composure',\n",
      "       'Marking', 'StandingTackle', 'SlidingTackle', 'GKDiving', 'GKHandling',\n",
      "       'GKKicking', 'GKPositioning', 'GKReflexes', 'Release Clause'],\n",
      "      dtype='object')\n"
     ]
    }
   ],
   "source": [
    "print('columns of dataset are: ')\n",
    "print(df.columns)"
   ]
  },
  {
   "cell_type": "code",
   "execution_count": 131,
   "metadata": {
    "execution": {
     "iopub.execute_input": "2021-05-16T13:39:33.161364Z",
     "iopub.status.busy": "2021-05-16T13:39:33.160716Z",
     "iopub.status.idle": "2021-05-16T13:39:33.167569Z",
     "shell.execute_reply": "2021-05-16T13:39:33.166998Z"
    },
    "papermill": {
     "duration": 0.029865,
     "end_time": "2021-05-16T13:39:33.167739",
     "exception": false,
     "start_time": "2021-05-16T13:39:33.137874",
     "status": "completed"
    },
    "tags": []
   },
   "outputs": [
    {
     "name": "stdout",
     "output_type": "stream",
     "text": [
      "target variables labels are:\n",
      "['RF' 'ST' 'LW' 'GK' 'RCM' 'LF' 'RS' 'RCB' 'LCM' 'CB' 'LDM' 'CAM' 'CDM'\n",
      " 'LS' 'LCB' 'RM' 'LM' 'LB' 'RDM' 'RW' 'CM' 'RB' 'RAM' 'CF' 'LAM' 'RWB'\n",
      " 'LWB']\n"
     ]
    }
   ],
   "source": [
    "print('target variables labels are:')\n",
    "print(df['Position'].unique())"
   ]
  },
  {
   "cell_type": "code",
   "execution_count": 132,
   "metadata": {
    "execution": {
     "iopub.execute_input": "2021-05-16T13:39:33.348152Z",
     "iopub.status.busy": "2021-05-16T13:39:33.347473Z",
     "iopub.status.idle": "2021-05-16T13:39:33.378482Z",
     "shell.execute_reply": "2021-05-16T13:39:33.377992Z"
    },
    "papermill": {
     "duration": 0.045142,
     "end_time": "2021-05-16T13:39:33.378632",
     "exception": false,
     "start_time": "2021-05-16T13:39:33.333490",
     "status": "completed"
    },
    "tags": []
   },
   "outputs": [
    {
     "name": "stdout",
     "output_type": "stream",
     "text": [
      "Preferred Foot\n",
      "['Left' 'Right']\n",
      "Right    12823\n",
      "Left      3820\n",
      "Name: Preferred Foot, dtype: int64\n",
      "\n",
      "Work Rate\n",
      "['Medium/ Medium' 'High/ Low' 'High/ Medium' 'High/ High' 'Medium/ High'\n",
      " 'Medium/ Low' 'Low/ High' 'Low/ Medium' 'Low/ Low']\n",
      "Medium/ Medium    9019\n",
      "High/ Medium      2886\n",
      "Medium/ High      1572\n",
      "High/ High         931\n",
      "Medium/ Low        769\n",
      "High/ Low          621\n",
      "Low/ Medium        413\n",
      "Low/ High          404\n",
      "Low/ Low            28\n",
      "Name: Work Rate, dtype: int64\n",
      "\n"
     ]
    }
   ],
   "source": [
    "#unqiue attributes of categorical columns\n",
    "print('Preferred Foot')\n",
    "print(df['Preferred Foot'].unique())\n",
    "print(df['Preferred Foot'].value_counts())\n",
    "print('')\n",
    "\n",
    "print('Work Rate')\n",
    "print(df['Work Rate'].unique())\n",
    "print(df['Work Rate'].value_counts())\n",
    "print('')\n",
    "\n"
   ]
  },
  {
   "cell_type": "code",
   "execution_count": 133,
   "metadata": {},
   "outputs": [],
   "source": [
    "#defining a fucntion to change cell values as per the need\n",
    "df_reduced = df.copy()\n",
    "def change_categories(cell_value):\n",
    "    attackers = ['ST','LW','RW','LS','RS','CF','RF','LF']\n",
    "    midfielders = ['CM','RM','LM','CAM','CDM','LCM','RCM','RDM','LDM','RAM','LAM']\n",
    "    defenders = ['CB','LB','RB','RCB','LCB','RWB','LWB']\n",
    "    goalkeepers = ['GK']\n",
    "    if cell_value in attackers:\n",
    "        return 'Attacker'\n",
    "    \n",
    "    if cell_value in midfielders:\n",
    "        return 'Midfielder'\n",
    "    \n",
    "    if cell_value in defenders:\n",
    "        return 'Defender'\n",
    "        \n",
    "    if cell_value in goalkeepers:\n",
    "        return 'Goalkeeper'\n",
    "df_reduced['Position']=df_reduced['Position'].apply(lambda x : change_categories(x))"
   ]
  },
  {
   "cell_type": "code",
   "execution_count": 134,
   "metadata": {},
   "outputs": [
    {
     "data": {
      "text/plain": [
       "<matplotlib.axes._subplots.AxesSubplot at 0x7f8d371231d0>"
      ]
     },
     "execution_count": 134,
     "metadata": {},
     "output_type": "execute_result"
    },
    {
     "data": {
      "image/png": "[encoded data removed]",
      "text/plain": [
       "<Figure size 432x288 with 1 Axes>"
      ]
     },
     "metadata": {
      "needs_background": "light"
     },
     "output_type": "display_data"
    }
   ],
   "source": [
    "#lets again plot to notice the distribution of players across more genetal categories\n",
    "df_reduced['Position'].value_counts().plot(kind = 'bar')"
   ]
  },
  {
   "cell_type": "markdown",
   "metadata": {},
   "source": [
    "this seems more  a wider distribution which can be worked with\n"
   ]
  },
  {
   "cell_type": "markdown",
   "metadata": {},
   "source": [
    "Lets know get more insights into data as there a wide variety of attributes many of which may be redundant, it makes sense \n",
    "to go for dimension reduction"
   ]
  },
  {
   "cell_type": "code",
   "execution_count": 135,
   "metadata": {},
   "outputs": [],
   "source": [
    "#lets separate the categorical,numerical attributes and labels from each other\n",
    "df_numerical = df.drop(columns=['Preferred Foot','Work Rate','Name'])\n",
    "df_numerical = df_numerical.drop(columns = ['Position','Release Clause'])\n",
    "df_categorical = df[['Preferred Foot','Work Rate']]\n",
    "target_position = df_reduced['Position']\n",
    "target_release_clause = df['Release Clause']"
   ]
  },
  {
   "cell_type": "code",
   "execution_count": 136,
   "metadata": {},
   "outputs": [
    {
     "name": "stdout",
     "output_type": "stream",
     "text": [
      "No. of numerical attributes: 40\n",
      "\n",
      "No. of categorical attributes: 2\n",
      "\n",
      "No. of records: 16643\n",
      "\n",
      "Numerical attributes: Index(['Age', 'Overall', 'Potential', 'Weak Foot', 'Skill Moves', 'Height',\n",
      "       'Weight', 'Finishing', 'HeadingAccuracy', 'ShortPassing', 'Volleys',\n",
      "       'Dribbling', 'Curve', 'FKAccuracy', 'LongPassing', 'BallControl',\n",
      "       'Acceleration', 'SprintSpeed', 'Agility', 'Reactions', 'Balance',\n",
      "       'ShotPower', 'Jumping', 'Stamina', 'Strength', 'LongShots',\n",
      "       'Aggression', 'Interceptions', 'Positioning', 'Vision', 'Penalties',\n",
      "       'Composure', 'Marking', 'StandingTackle', 'SlidingTackle', 'GKDiving',\n",
      "       'GKHandling', 'GKKicking', 'GKPositioning', 'GKReflexes'],\n",
      "      dtype='object')\n",
      "\n",
      "Categorical aatributes: Index(['Preferred Foot', 'Work Rate'], dtype='object')\n",
      "\n",
      "\n",
      "Target Position Labels: ['Attacker' 'Goalkeeper' 'Midfielder' 'Defender']\n",
      "\n",
      "Target Release Clause Labels : [2.265e+02 1.271e+02 2.281e+02 ... 1.650e-01 1.430e-01 1.650e-01]\n"
     ]
    }
   ],
   "source": [
    "print('No. of numerical attributes:',len(df_numerical.columns))\n",
    "print('')\n",
    "print('No. of categorical attributes:',len(df_categorical.columns))\n",
    "print('')\n",
    "print('No. of records:',len(df))\n",
    "print('')\n",
    "print('Numerical attributes:',df_numerical.columns)\n",
    "print('')\n",
    "print('Categorical aatributes:',df_categorical.columns)\n",
    "print('')\n",
    "print('')\n",
    "print('Target Position Labels:',target_position.unique())\n",
    "print('')\n",
    "print('Target Release Clause Labels :',target_release_clause.values)"
   ]
  },
  {
   "cell_type": "code",
   "execution_count": 137,
   "metadata": {},
   "outputs": [
    {
     "data": {
      "text/html": [
       "<div>\n",
       "<style scoped>\n",
       "    .dataframe tbody tr th:only-of-type {\n",
       "        vertical-align: middle;\n",
       "    }\n",
       "\n",
       "    .dataframe tbody tr th {\n",
       "        vertical-align: top;\n",
       "    }\n",
       "\n",
       "    .dataframe thead th {\n",
       "        text-align: right;\n",
       "    }\n",
       "</style>\n",
       "<table border=\"1\" class=\"dataframe\">\n",
       "  <thead>\n",
       "    <tr style=\"text-align: right;\">\n",
       "      <th></th>\n",
       "      <th>Preferred Foot_Left</th>\n",
       "      <th>Preferred Foot_Right</th>\n",
       "      <th>Work Rate_High/ High</th>\n",
       "      <th>Work Rate_High/ Low</th>\n",
       "      <th>Work Rate_High/ Medium</th>\n",
       "      <th>Work Rate_Low/ High</th>\n",
       "      <th>Work Rate_Low/ Low</th>\n",
       "      <th>Work Rate_Low/ Medium</th>\n",
       "      <th>Work Rate_Medium/ High</th>\n",
       "      <th>Work Rate_Medium/ Low</th>\n",
       "      <th>Work Rate_Medium/ Medium</th>\n",
       "    </tr>\n",
       "  </thead>\n",
       "  <tbody>\n",
       "    <tr>\n",
       "      <th>0</th>\n",
       "      <td>1</td>\n",
       "      <td>0</td>\n",
       "      <td>0</td>\n",
       "      <td>0</td>\n",
       "      <td>0</td>\n",
       "      <td>0</td>\n",
       "      <td>0</td>\n",
       "      <td>0</td>\n",
       "      <td>0</td>\n",
       "      <td>0</td>\n",
       "      <td>1</td>\n",
       "    </tr>\n",
       "    <tr>\n",
       "      <th>1</th>\n",
       "      <td>0</td>\n",
       "      <td>1</td>\n",
       "      <td>0</td>\n",
       "      <td>1</td>\n",
       "      <td>0</td>\n",
       "      <td>0</td>\n",
       "      <td>0</td>\n",
       "      <td>0</td>\n",
       "      <td>0</td>\n",
       "      <td>0</td>\n",
       "      <td>0</td>\n",
       "    </tr>\n",
       "    <tr>\n",
       "      <th>2</th>\n",
       "      <td>0</td>\n",
       "      <td>1</td>\n",
       "      <td>0</td>\n",
       "      <td>0</td>\n",
       "      <td>1</td>\n",
       "      <td>0</td>\n",
       "      <td>0</td>\n",
       "      <td>0</td>\n",
       "      <td>0</td>\n",
       "      <td>0</td>\n",
       "      <td>0</td>\n",
       "    </tr>\n",
       "    <tr>\n",
       "      <th>3</th>\n",
       "      <td>0</td>\n",
       "      <td>1</td>\n",
       "      <td>0</td>\n",
       "      <td>0</td>\n",
       "      <td>0</td>\n",
       "      <td>0</td>\n",
       "      <td>0</td>\n",
       "      <td>0</td>\n",
       "      <td>0</td>\n",
       "      <td>0</td>\n",
       "      <td>1</td>\n",
       "    </tr>\n",
       "    <tr>\n",
       "      <th>4</th>\n",
       "      <td>0</td>\n",
       "      <td>1</td>\n",
       "      <td>1</td>\n",
       "      <td>0</td>\n",
       "      <td>0</td>\n",
       "      <td>0</td>\n",
       "      <td>0</td>\n",
       "      <td>0</td>\n",
       "      <td>0</td>\n",
       "      <td>0</td>\n",
       "      <td>0</td>\n",
       "    </tr>\n",
       "  </tbody>\n",
       "</table>\n",
       "</div>"
      ],
      "text/plain": [
       "   Preferred Foot_Left  Preferred Foot_Right  Work Rate_High/ High  \\\n",
       "0                    1                     0                     0   \n",
       "1                    0                     1                     0   \n",
       "2                    0                     1                     0   \n",
       "3                    0                     1                     0   \n",
       "4                    0                     1                     1   \n",
       "\n",
       "   Work Rate_High/ Low  Work Rate_High/ Medium  Work Rate_Low/ High  \\\n",
       "0                    0                       0                    0   \n",
       "1                    1                       0                    0   \n",
       "2                    0                       1                    0   \n",
       "3                    0                       0                    0   \n",
       "4                    0                       0                    0   \n",
       "\n",
       "   Work Rate_Low/ Low  Work Rate_Low/ Medium  Work Rate_Medium/ High  \\\n",
       "0                   0                      0                       0   \n",
       "1                   0                      0                       0   \n",
       "2                   0                      0                       0   \n",
       "3                   0                      0                       0   \n",
       "4                   0                      0                       0   \n",
       "\n",
       "   Work Rate_Medium/ Low  Work Rate_Medium/ Medium  \n",
       "0                      0                         1  \n",
       "1                      0                         0  \n",
       "2                      0                         0  \n",
       "3                      0                         1  \n",
       "4                      0                         0  "
      ]
     },
     "execution_count": 137,
     "metadata": {},
     "output_type": "execute_result"
    }
   ],
   "source": [
    "#encoding categorical data\n",
    "df_categorical_encoded_one_hot = pd.get_dummies(df_categorical,)\n",
    "df_categorical_encoded_one_hot.head()"
   ]
  },
  {
   "cell_type": "markdown",
   "metadata": {},
   "source": [
    "# Feature Selection"
   ]
  },
  {
   "cell_type": "markdown",
   "metadata": {},
   "source": [
    "## Mutual information"
   ]
  },
  {
   "cell_type": "code",
   "execution_count": 138,
   "metadata": {},
   "outputs": [],
   "source": [
    "from sklearn.feature_selection import mutual_info_classif,mutual_info_regression\n",
    "from sklearn.feature_selection import SelectKBest"
   ]
  },
  {
   "cell_type": "code",
   "execution_count": 139,
   "metadata": {},
   "outputs": [
    {
     "data": {
      "text/plain": [
       "<matplotlib.axes._subplots.AxesSubplot at 0x7f8d36f012b0>"
      ]
     },
     "execution_count": 139,
     "metadata": {},
     "output_type": "execute_result"
    },
    {
     "data": {
      "image/png": "[encoded data removed]",
      "text/plain": [
       "<Figure size 720x720 with 1 Axes>"
      ]
     },
     "metadata": {
      "needs_background": "light"
     },
     "output_type": "display_data"
    }
   ],
   "source": [
    "plt.figure(figsize=(10,10))\n",
    "mutual_info_values_categ = mutual_info_classif(df_categorical_encoded,target_position)\n",
    "s = pd.Series(mutual_info_values_categ,index = df_categorical_encoded.columns).sort_values(ascending=False)\n",
    "sns.barplot(y = s.index,x=s)\n"
   ]
  },
  {
   "cell_type": "markdown",
   "metadata": {},
   "source": [
    "## we can see there is not much mutual information between Position and categorical attributes , so it makes sense to drop these categorical attributes for predicting position"
   ]
  },
  {
   "cell_type": "code",
   "execution_count": 140,
   "metadata": {},
   "outputs": [
    {
     "data": {
      "text/plain": [
       "<matplotlib.axes._subplots.AxesSubplot at 0x7f8d36f017f0>"
      ]
     },
     "execution_count": 140,
     "metadata": {},
     "output_type": "execute_result"
    },
    {
     "data": {
      "image/png": "[encoded data removed]",
      "text/plain": [
       "<Figure size 720x720 with 1 Axes>"
      ]
     },
     "metadata": {
      "needs_background": "light"
     },
     "output_type": "display_data"
    }
   ],
   "source": [
    "plt.figure(figsize=(10,10))\n",
    "mutual_info_values_reg = mutual_info_regression(df_numerical,target_release_clause)\n",
    "s = pd.Series(mutual_info_values_reg,index = df_numerical.columns).sort_values(ascending=False)\n",
    "sns.barplot(y = s.index,x=s)"
   ]
  },
  {
   "cell_type": "markdown",
   "metadata": {},
   "source": [
    "## Only overall and potential seem as clear indicators for predicting release clause,however overall and potential are calculated based on other attributes so , it makes sense to drop these attributes with respect to predictions"
   ]
  },
  {
   "cell_type": "code",
   "execution_count": 141,
   "metadata": {},
   "outputs": [],
   "source": [
    "df_numerial = df_numerical.drop(columns = ['Potential','Overall'])"
   ]
  },
  {
   "cell_type": "code",
   "execution_count": 142,
   "metadata": {},
   "outputs": [
    {
     "data": {
      "text/plain": [
       "Index(['Age', 'Overall', 'Potential', 'Weak Foot', 'Skill Moves', 'Height',\n",
       "       'Weight', 'Finishing', 'HeadingAccuracy', 'ShortPassing', 'Volleys',\n",
       "       'Dribbling', 'Curve', 'FKAccuracy', 'LongPassing', 'BallControl',\n",
       "       'Acceleration', 'SprintSpeed', 'Agility', 'Reactions', 'Balance',\n",
       "       'ShotPower', 'Jumping', 'Stamina', 'Strength', 'LongShots',\n",
       "       'Aggression', 'Interceptions', 'Positioning', 'Vision', 'Penalties',\n",
       "       'Composure', 'Marking', 'StandingTackle', 'SlidingTackle', 'GKDiving',\n",
       "       'GKHandling', 'GKKicking', 'GKPositioning', 'GKReflexes'],\n",
       "      dtype='object')"
      ]
     },
     "execution_count": 142,
     "metadata": {},
     "output_type": "execute_result"
    }
   ],
   "source": [
    "df_numerical.columns"
   ]
  },
  {
   "cell_type": "markdown",
   "metadata": {},
   "source": [
    "## Principal Component Ananlysis"
   ]
  },
  {
   "cell_type": "code",
   "execution_count": 143,
   "metadata": {},
   "outputs": [
    {
     "data": {
      "text/plain": [
       "16"
      ]
     },
     "execution_count": 143,
     "metadata": {},
     "output_type": "execute_result"
    }
   ],
   "source": [
    "#using principal component analysis to decompose into reduced dimensions\n",
    "#PCA only works on numerical attributes\n",
    "from sklearn.decomposition import PCA\n",
    "\n",
    "#choosing the right number of dimesions i.e preserving 95% of dataset's variance\n",
    "pca = PCA()\n",
    "pca.fit(df_numerical)\n",
    "cumsum = np.cumsum(pca.explained_variance_ratio_)\n",
    "d = np.argmax(cumsum>=0.95)+1\n",
    "d"
   ]
  },
  {
   "cell_type": "markdown",
   "metadata": {},
   "source": [
    "we need to preserve atleast 15 components to preserve 95% variance of data, this is good reduction more than half reduction from orginal 38 numerical attributes"
   ]
  },
  {
   "cell_type": "code",
   "execution_count": 144,
   "metadata": {},
   "outputs": [],
   "source": [
    "#transform dataset \n",
    "pca = PCA(n_components = 16)\n",
    "df_numerical_reduced = pca.fit_transform(df_numerical)"
   ]
  },
  {
   "cell_type": "code",
   "execution_count": 145,
   "metadata": {},
   "outputs": [
    {
     "data": {
      "text/plain": [
       "array([0.55344481, 0.18020107, 0.06381988, 0.04837529, 0.02700853,\n",
       "       0.0133326 , 0.01120578, 0.00866237, 0.00801713, 0.00727566,\n",
       "       0.00675606, 0.00624015, 0.00554872, 0.00504389, 0.00475545,\n",
       "       0.00430931])"
      ]
     },
     "execution_count": 145,
     "metadata": {},
     "output_type": "execute_result"
    }
   ],
   "source": [
    "pca.explained_variance_ratio_"
   ]
  },
  {
   "cell_type": "code",
   "execution_count": 146,
   "metadata": {},
   "outputs": [
    {
     "data": {
      "text/plain": [
       "<matplotlib.axes._subplots.AxesSubplot at 0x7f8d36dbd9e8>"
      ]
     },
     "execution_count": 146,
     "metadata": {},
     "output_type": "execute_result"
    },
    {
     "data": {
      "image/png": "[encoded data removed]",
      "text/plain": [
       "<Figure size 432x288 with 1 Axes>"
      ]
     },
     "metadata": {
      "needs_background": "light"
     },
     "output_type": "display_data"
    }
   ],
   "source": [
    "sns.barplot( y = pca.explained_variance_ratio_,x = [i for i in range(1,17)],)"
   ]
  },
  {
   "cell_type": "code",
   "execution_count": 147,
   "metadata": {},
   "outputs": [
    {
     "data": {
      "text/plain": [
       "(16643, 16)"
      ]
     },
     "execution_count": 147,
     "metadata": {},
     "output_type": "execute_result"
    }
   ],
   "source": [
    "df_numerical_reduced.shape"
   ]
  },
  {
   "cell_type": "code",
   "execution_count": 148,
   "metadata": {},
   "outputs": [],
   "source": [
    "#lets save this transformed numerical dataset as a numpy array\n",
    "labels_array_position = target_position.to_numpy()\n",
    "labels_array_release_clause = target_release_clause.to_numpy()\n",
    "np.savez('dataset_numerical_PCA_transformed',Position=labels_array_position,X=df_numerical_reduced,Release_Clause=labels_array_release_clause )"
   ]
  },
  {
   "cell_type": "code",
   "execution_count": null,
   "metadata": {},
   "outputs": [],
   "source": []
  },
  {
   "cell_type": "code",
   "execution_count": null,
   "metadata": {},
   "outputs": [],
   "source": []
  }
 ],
 "metadata": {
  "kernelspec": {
   "display_name": "Python 3",
   "language": "python",
   "name": "python3"
  },
  "language_info": {
   "codemirror_mode": {
    "name": "ipython",
    "version": 3
   },
   "file_extension": ".py",
   "mimetype": "text/x-python",
   "name": "python",
   "nbconvert_exporter": "python",
   "pygments_lexer": "ipython3",
   "version": "3.7.3"
  },
  "papermill": {
   "default_parameters": {},
   "duration": 22.859271,
   "end_time": "2021-05-16T13:39:47.960462",
   "environment_variables": {},
   "exception": null,
   "input_path": "__notebook__.ipynb",
   "output_path": "__notebook__.ipynb",
   "parameters": {},
   "start_time": "2021-05-16T13:39:25.101191",
   "version": "2.3.3"
  }
 },
 "nbformat": 4,
 "nbformat_minor": 5
}
